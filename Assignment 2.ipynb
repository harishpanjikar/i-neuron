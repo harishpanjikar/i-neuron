{
 "cells": [
  {
   "cell_type": "code",
   "execution_count": 6,
   "metadata": {},
   "outputs": [
    {
     "name": "stdout",
     "output_type": "stream",
     "text": [
      "sum of numbers using my_reduce fn is: 18\n"
     ]
    }
   ],
   "source": [
    "def my_reduce(anyfn,sequence):\n",
    "    result=sequence[0]\n",
    "    for item in sequence[1:]:\n",
    "        result=anyfn(result,item)\n",
    "    return result\n",
    "\n",
    "def sum(x,y):\n",
    "    return x+y\n",
    "\n",
    "print(\"sum of numbers using my_reduce fn is: \" + str(my_reduce(sum,[1,5,3,9])))"
   ]
  },
  {
   "cell_type": "code",
   "execution_count": 15,
   "metadata": {},
   "outputs": [
    {
     "name": "stdout",
     "output_type": "stream",
     "text": [
      "the numbers filtered using myfilter fn are: [6, 12, 46]\n"
     ]
    }
   ],
   "source": [
    "def myfilter(anyfn,sequence):\n",
    "    result=[]\n",
    "    for item in sequence:\n",
    "        if anyfn(item):\n",
    "            result.append(item)\n",
    "    return result\n",
    "\n",
    "def ispositive(x):\n",
    "    if (x <= 0):\n",
    "        return False\n",
    "    else:\n",
    "        return True\n",
    "    \n",
    "print(\"the numbers filtered using myfilter fn are: \" + str(myfilter(ispositive,[6,-2,12,46,-23,-64])))\n",
    "        \n",
    "        "
   ]
  },
  {
   "cell_type": "code",
   "execution_count": 1,
   "metadata": {},
   "outputs": [
    {
     "name": "stdout",
     "output_type": "stream",
     "text": [
      "['A', 'C', 'A', 'D', 'G', 'I', 'L', 'D']\n"
     ]
    }
   ],
   "source": [
    "alphabet = [letter for letter in 'ACADGILD']\n",
    "print(alphabet)"
   ]
  },
  {
   "cell_type": "code",
   "execution_count": 14,
   "metadata": {},
   "outputs": [
    {
     "name": "stdout",
     "output_type": "stream",
     "text": [
      "['x', 'xx', 'xxx', 'xxxx', 'y', 'yy', 'yyy', 'yyyy', 'z', 'zz', 'zzz', 'zzzz']\n"
     ]
    }
   ],
   "source": [
    "alpha=['x','y','z']\n",
    "pattern=[i*num for i in alpha for num in range(1,5)]\n",
    "print(str(pattern))"
   ]
  },
  {
   "cell_type": "code",
   "execution_count": 10,
   "metadata": {},
   "outputs": [
    {
     "name": "stdout",
     "output_type": "stream",
     "text": [
      "['x', 'y', 'z', 'xx', 'yy', 'zz', 'xxx', 'yyy', 'zzz', 'xxxx', 'yyyy', 'zzzz']\n"
     ]
    }
   ],
   "source": [
    "alpha=['x','y','z']\n",
    "pattern=[i*num for num in range(1,5) for i in alpha]\n",
    "print(str(pattern))"
   ]
  },
  {
   "cell_type": "code",
   "execution_count": 18,
   "metadata": {},
   "outputs": [
    {
     "name": "stdout",
     "output_type": "stream",
     "text": [
      "[[2], [3], [4], [3], [4], [5], [4], [5], [6]]\n"
     ]
    }
   ],
   "source": [
    "alpha=[2,3,4]\n",
    "pattern=[[i+num] for num in range(0,3) for i in alpha]\n",
    "print(pattern)"
   ]
  },
  {
   "cell_type": "code",
   "execution_count": 41,
   "metadata": {},
   "outputs": [
    {
     "name": "stdout",
     "output_type": "stream",
     "text": [
      "[[2, 3, 4, 5], [3, 4, 5, 6], [4, 5, 6, 7], [5, 6, 7, 8]]\n"
     ]
    }
   ],
   "source": [
    "alpha=[2,3,4,5]\n",
    "pattern=[[i+num for num in range(0,4)] for i in alpha]\n",
    "print(pattern)"
   ]
  },
  {
   "cell_type": "code",
   "execution_count": 46,
   "metadata": {},
   "outputs": [
    {
     "name": "stdout",
     "output_type": "stream",
     "text": [
      "[(1, 1), (2, 1), (3, 1), (1, 2), (2, 2), (3, 2), (1, 3), (2, 3), (3, 3)]\n"
     ]
    }
   ],
   "source": [
    "alpha=[1,2,3]\n",
    "pattern=[ (b,a) for a in alpha for b in alpha]\n",
    "print(pattern)"
   ]
  },
  {
   "cell_type": "code",
   "execution_count": 53,
   "metadata": {},
   "outputs": [
    {
     "name": "stdout",
     "output_type": "stream",
     "text": [
      "badminton\n"
     ]
    }
   ],
   "source": [
    "words=['cricket','football','tennis','badminton']\n",
    "def longestword(words):\n",
    "    length=''\n",
    "    for i in words:\n",
    "        length1=i\n",
    "        \n",
    "        if len(length)>len(length1):\n",
    "            length=length\n",
    "        else:\n",
    "            length=length1\n",
    "            \n",
    "    return length\n",
    "        \n",
    "result = longestword(words)\n",
    "print(result)"
   ]
  },
  {
   "cell_type": "code",
   "execution_count": 54,
   "metadata": {},
   "outputs": [
    {
     "name": "stdout",
     "output_type": "stream",
     "text": [
      "enter first side: 4\n",
      "enter second side: 4\n",
      "enter third side: 2\n",
      "enter semi perimeter: 5\n",
      "the area is:  3.87\n"
     ]
    }
   ],
   "source": [
    "class sides:\n",
    "    def __init__(self,a,b,c,s):\n",
    "        self.a=a\n",
    "        self.b=b\n",
    "        self.c=c\n",
    "        self.s=s\n",
    "        \n",
    "class area(sides):\n",
    "    def __init__(self,a,b,c,s):\n",
    "        super().__init__(a,b,c,s)\n",
    "        \n",
    "    def triangle(self):\n",
    "        result = (s*(s-a)*(s-b)*(s-c)) ** 0.5\n",
    "        print(\"the area is: \",round(result,2))\n",
    "\n",
    "a=int(input('enter first side: '))\n",
    "b=int(input('enter second side: '))\n",
    "c=int(input('enter third side: '))\n",
    "s=int(input('enter semi perimeter: '))\n",
    "\n",
    "s1=area(a,b,c,s)\n",
    "\n",
    "s1.triangle()\n",
    "\n",
    "\n",
    "    \n",
    "        \n",
    "        "
   ]
  },
  {
   "cell_type": "code",
   "execution_count": 56,
   "metadata": {},
   "outputs": [
    {
     "name": "stdout",
     "output_type": "stream",
     "text": [
      "enter the number: 4\n",
      "enter the no you want to compare elements with: 6\n",
      "harish\n",
      "shailesh\n",
      "sheevanee\n",
      "sam\n",
      "['shailesh', 'sheevanee']\n"
     ]
    }
   ],
   "source": [
    "words=[]\n",
    "newword=[]\n",
    "n=int(input(\"enter the number: \"))\n",
    "p=int(input('enter the no you want to compare elements with: '))\n",
    "def filter_long_words(words):\n",
    "    for i in range(0,n):\n",
    "        ele=str(input(''))\n",
    "        words.append(ele)\n",
    "    \n",
    "    for j in words:\n",
    "        if len(j)>p:\n",
    "            newword.append(j)\n",
    "        \n",
    "    return newword\n",
    "\n",
    "result=filter_long_words(words)\n",
    "print (result)    \n",
    "\n"
   ]
  },
  {
   "cell_type": "code",
   "execution_count": 57,
   "metadata": {},
   "outputs": [
    {
     "name": "stdout",
     "output_type": "stream",
     "text": [
      "enter the number: 4\n",
      "enter the no you want to compare elements with: 5\n",
      "harish\n",
      "shailesh\n",
      "sheevanee\n",
      "sam\n",
      "['harish', 'shailesh', 'sheevanee']\n"
     ]
    }
   ],
   "source": [
    "words=[]\n",
    "n=int(input(\"enter the number: \"))\n",
    "p=int(input('enter the no you want to compare elements with: '))\n",
    "def filter_long_words(words):\n",
    "    for i in range(0,n):\n",
    "        ele=str(input(''))\n",
    "        words.append(ele)\n",
    "    \n",
    "    for j in words:\n",
    "        if len(j)<p:\n",
    "            words.remove(j)\n",
    "        \n",
    "    return words\n",
    "\n",
    "result=filter_long_words(words)\n",
    "print (result)    \n",
    "\n"
   ]
  },
  {
   "cell_type": "code",
   "execution_count": 26,
   "metadata": {},
   "outputs": [
    {
     "name": "stdout",
     "output_type": "stream",
     "text": [
      "[6, 5, 5, 10]\n"
     ]
    }
   ],
   "source": [
    "\n",
    "wlist=['harish','hello','crazy','california']\n",
    "def convert(t):    \n",
    "    return len(t)\n",
    "\n",
    "b = list(map(convert, wlist))\n",
    "print(b)\n",
    "\n",
    "    \n"
   ]
  },
  {
   "cell_type": "code",
   "execution_count": 42,
   "metadata": {},
   "outputs": [
    {
     "name": "stdout",
     "output_type": "stream",
     "text": [
      "enter a letter and we will tell you whether it is a vowel or not:b\n",
      "try again\n",
      "enter a letter and we will tell you whether it is a vowel or not:b\n",
      "try again\n",
      "enter a letter and we will tell you whether it is a vowel or not:a\n",
      "yes it is a vowel\n"
     ]
    }
   ],
   "source": [
    "\n",
    "letter=['a','e','i','o','u']\n",
    "b=True\n",
    "while b:\n",
    "    a=input('enter a letter and we will tell you whether it is a vowel or not:')\n",
    "    if len(a) == 1:\n",
    "        if a in letter:\n",
    "            print('yes it is a vowel')\n",
    "            b=False\n",
    "        else:\n",
    "            print('try again')"
   ]
  },
  {
   "cell_type": "code",
   "execution_count": 1,
   "metadata": {},
   "outputs": [
    {
     "name": "stdout",
     "output_type": "stream",
     "text": [
      "enter a letter and we will tell you whether it is a vowel or not:c\n",
      "try again\n",
      "enter a letter and we will tell you whether it is a vowel or not:ahjd\n",
      "vowel comprises of just one letter!\n",
      "enter a letter and we will tell you whether it is a vowel or not:i\n",
      "yes it is a vowel\n"
     ]
    }
   ],
   "source": [
    "letter=['a','e','i','o','u']\n",
    "def vowel(letter):\n",
    " \n",
    "    \n",
    "    while True:\n",
    "        a=input('enter a letter and we will tell you whether it is a vowel or not:')\n",
    "        if len(a) == 1:\n",
    "            if a in letter:\n",
    "                print('yes it is a vowel')\n",
    "                break\n",
    "            else:\n",
    "                print('try again')\n",
    "        else:\n",
    "            print(\"vowel comprises of just one letter!\")\n",
    "vowel(letter)"
   ]
  }
 ],
 "metadata": {
  "kernelspec": {
   "display_name": "Python 3",
   "language": "python",
   "name": "python3"
  },
  "language_info": {
   "codemirror_mode": {
    "name": "ipython",
    "version": 3
   },
   "file_extension": ".py",
   "mimetype": "text/x-python",
   "name": "python",
   "nbconvert_exporter": "python",
   "pygments_lexer": "ipython3",
   "version": "3.7.4"
  }
 },
 "nbformat": 4,
 "nbformat_minor": 2
}
